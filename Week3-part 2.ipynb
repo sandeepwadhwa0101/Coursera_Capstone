{
    "cells": [
        {
            "cell_type": "markdown",
            "metadata": {
                "collapsed": true
            },
            "source": "# Segmenting and Clustering Neighborhoods in Toronto - Part 2"
        },
        {
            "cell_type": "code",
            "execution_count": 8,
            "metadata": {
                "scrolled": true
            },
            "outputs": [],
            "source": "from bs4 import BeautifulSoup\nimport requests\nimport numpy as np\nfrom geopy.geocoders import Nominatim # convert an address into latitude and longitude values\nfrom pandas.io.json import json_normalize  # tranform JSON file into a pandas dataframe\n\nimport folium # map rendering library\n\nimport pandas as pd"
        },
        {
            "cell_type": "markdown",
            "metadata": {},
            "source": "## Reading the CSV of Neighborhoods created in part 1"
        },
        {
            "cell_type": "code",
            "execution_count": 9,
            "metadata": {},
            "outputs": [],
            "source": "df_wiki= pd.read_csv(\"./CanadaNeighborhood_List.csv\")"
        },
        {
            "cell_type": "markdown",
            "metadata": {},
            "source": "## Extracting the Coordinates for all the neighborhoods."
        },
        {
            "cell_type": "code",
            "execution_count": 10,
            "metadata": {},
            "outputs": [
                {
                    "data": {
                        "text/html": "<div>\n<style scoped>\n    .dataframe tbody tr th:only-of-type {\n        vertical-align: middle;\n    }\n\n    .dataframe tbody tr th {\n        vertical-align: top;\n    }\n\n    .dataframe thead th {\n        text-align: right;\n    }\n</style>\n<table border=\"1\" class=\"dataframe\">\n  <thead>\n    <tr style=\"text-align: right;\">\n      <th></th>\n      <th>Latitude</th>\n      <th>Longitude</th>\n    </tr>\n    <tr>\n      <th>Postal Code</th>\n      <th></th>\n      <th></th>\n    </tr>\n  </thead>\n  <tbody>\n    <tr>\n      <th>M1B</th>\n      <td>43.806686</td>\n      <td>-79.194353</td>\n    </tr>\n    <tr>\n      <th>M1C</th>\n      <td>43.784535</td>\n      <td>-79.160497</td>\n    </tr>\n    <tr>\n      <th>M1E</th>\n      <td>43.763573</td>\n      <td>-79.188711</td>\n    </tr>\n    <tr>\n      <th>M1G</th>\n      <td>43.770992</td>\n      <td>-79.216917</td>\n    </tr>\n    <tr>\n      <th>M1H</th>\n      <td>43.773136</td>\n      <td>-79.239476</td>\n    </tr>\n  </tbody>\n</table>\n</div>",
                        "text/plain": "              Latitude  Longitude\nPostal Code                      \nM1B          43.806686 -79.194353\nM1C          43.784535 -79.160497\nM1E          43.763573 -79.188711\nM1G          43.770992 -79.216917\nM1H          43.773136 -79.239476"
                    },
                    "execution_count": 10,
                    "metadata": {},
                    "output_type": "execute_result"
                }
            ],
            "source": "toronto_geocsv = 'https://cocl.us/Geospatial_data'\n!wget -q -O 'toronto_m.geospatial_data.csv' toronto_geocsv\ngeocsv_data = pd.read_csv(toronto_geocsv).set_index(\"Postal Code\")\ngeocsv_data.head()"
        },
        {
            "cell_type": "code",
            "execution_count": 11,
            "metadata": {},
            "outputs": [],
            "source": "TorontoNeighborhoodCoordinates_df = pd.DataFrame(df_wiki).rename(columns={\"PostalCode\":\"Postal Code\"})\nTorontoNeighborhoodCoordinates_df = pd.DataFrame(TorontoNeighborhoodCoordinates_df).set_index(\"Postal Code\")\n#TorontoNeighborhoodCoordinates_df.head()\nTorontoNeighborhoodCoordinates_df = TorontoNeighborhoodCoordinates_df.join(geocsv_data)"
        },
        {
            "cell_type": "code",
            "execution_count": 12,
            "metadata": {},
            "outputs": [
                {
                    "data": {
                        "text/plain": "(103, 4)"
                    },
                    "execution_count": 12,
                    "metadata": {},
                    "output_type": "execute_result"
                }
            ],
            "source": "TorontoNeighborhoodCoordinates_df.shape"
        },
        {
            "cell_type": "code",
            "execution_count": 13,
            "metadata": {},
            "outputs": [
                {
                    "data": {
                        "text/html": "<div>\n<style scoped>\n    .dataframe tbody tr th:only-of-type {\n        vertical-align: middle;\n    }\n\n    .dataframe tbody tr th {\n        vertical-align: top;\n    }\n\n    .dataframe thead th {\n        text-align: right;\n    }\n</style>\n<table border=\"1\" class=\"dataframe\">\n  <thead>\n    <tr style=\"text-align: right;\">\n      <th></th>\n      <th>Borough</th>\n      <th>Neighborhood</th>\n      <th>Latitude</th>\n      <th>Longitude</th>\n    </tr>\n    <tr>\n      <th>Postal Code</th>\n      <th></th>\n      <th></th>\n      <th></th>\n      <th></th>\n    </tr>\n  </thead>\n  <tbody>\n    <tr>\n      <th>M3A</th>\n      <td>North York</td>\n      <td>Parkwoods</td>\n      <td>43.753259</td>\n      <td>-79.329656</td>\n    </tr>\n    <tr>\n      <th>M4A</th>\n      <td>North York</td>\n      <td>Victoria Village</td>\n      <td>43.725882</td>\n      <td>-79.315572</td>\n    </tr>\n    <tr>\n      <th>M5A</th>\n      <td>Downtown Toronto</td>\n      <td>Regent Park, Harbourfront</td>\n      <td>43.654260</td>\n      <td>-79.360636</td>\n    </tr>\n    <tr>\n      <th>M6A</th>\n      <td>North York</td>\n      <td>Lawrence Manor, Lawrence Heights</td>\n      <td>43.718518</td>\n      <td>-79.464763</td>\n    </tr>\n    <tr>\n      <th>M7A</th>\n      <td>Downtown Toronto</td>\n      <td>Queen's Park, Ontario Provincial Government</td>\n      <td>43.662301</td>\n      <td>-79.389494</td>\n    </tr>\n  </tbody>\n</table>\n</div>",
                        "text/plain": "                      Borough                                 Neighborhood  \\\nPostal Code                                                                  \nM3A                North York                                    Parkwoods   \nM4A                North York                             Victoria Village   \nM5A          Downtown Toronto                    Regent Park, Harbourfront   \nM6A                North York             Lawrence Manor, Lawrence Heights   \nM7A          Downtown Toronto  Queen's Park, Ontario Provincial Government   \n\n              Latitude  Longitude  \nPostal Code                        \nM3A          43.753259 -79.329656  \nM4A          43.725882 -79.315572  \nM5A          43.654260 -79.360636  \nM6A          43.718518 -79.464763  \nM7A          43.662301 -79.389494  "
                    },
                    "execution_count": 13,
                    "metadata": {},
                    "output_type": "execute_result"
                }
            ],
            "source": "TorontoNeighborhoodCoordinates_df.head()"
        },
        {
            "cell_type": "code",
            "execution_count": 14,
            "metadata": {},
            "outputs": [],
            "source": "TorontoNeighborhoodCoordinates_df.to_csv(\"./TorontoNeighborhoodCoordinates_df.csv\",index=False)"
        },
        {
            "cell_type": "code",
            "execution_count": null,
            "metadata": {},
            "outputs": [],
            "source": ""
        }
    ],
    "metadata": {
        "kernelspec": {
            "display_name": "Python 3.6",
            "language": "python",
            "name": "python3"
        },
        "language_info": {
            "codemirror_mode": {
                "name": "ipython",
                "version": 3
            },
            "file_extension": ".py",
            "mimetype": "text/x-python",
            "name": "python",
            "nbconvert_exporter": "python",
            "pygments_lexer": "ipython3",
            "version": "3.6.9"
        }
    },
    "nbformat": 4,
    "nbformat_minor": 1
}